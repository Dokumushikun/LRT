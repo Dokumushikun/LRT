{
 "cells": [
  {
   "cell_type": "code",
   "execution_count": 1,
   "metadata": {},
   "outputs": [],
   "source": [
    "import matplotlib.pyplot as plt\n",
    "%matplotlib inline"
   ]
  },
  {
   "cell_type": "code",
   "execution_count": null,
   "metadata": {},
   "outputs": [],
   "source": [
    "mnist_train_acc = []\n",
    "mnist_val_acc = []"
   ]
  },
  {
   "cell_type": "code",
   "execution_count": 3,
   "metadata": {},
   "outputs": [
    {
     "data": {
      "text/plain": [
       "['logs_txt_166',\n",
       " 'logs_txt_39',\n",
       " 'logs_txt_302',\n",
       " 'logs_txt_72',\n",
       " 'logs_txt_742',\n",
       " 'logs_txt_14',\n",
       " 'logs_txt_76',\n",
       " 'logs_txt_499',\n",
       " 'logs_txt_310',\n",
       " 'logs_txt_466',\n",
       " 'logs_txt_605',\n",
       " 'logs_txt_45',\n",
       " 'logs_txt_523',\n",
       " '.ipynb_checkpoints',\n",
       " 'logs_txt_719',\n",
       " 'logs_txt_113',\n",
       " 'logs_txt_358',\n",
       " 'logs_txt_798',\n",
       " 'logs_txt_245',\n",
       " 'logs_txt_621',\n",
       " 'logs_txt_888',\n",
       " 'logs_txt_186',\n",
       " 'logs_txt_85',\n",
       " 'logs_txt_131',\n",
       " 'Untitled.ipynb',\n",
       " 'logs_txt_856',\n",
       " 'logs_txt_565',\n",
       " 'logs_txt_624',\n",
       " 'logs_txt_55',\n",
       " 'logs_txt_604',\n",
       " 'logs_txt_443',\n",
       " 'logs_txt_470',\n",
       " 'logs_txt_312',\n",
       " 'logs_txt_467',\n",
       " 'logs_txt_43',\n",
       " 'logs_txt_460',\n",
       " 'logs_txt_344',\n",
       " 'logs_txt_208',\n",
       " 'logs_txt_84',\n",
       " 'logs_txt_398',\n",
       " 'logs_txt_571',\n",
       " 'logs_txt_354',\n",
       " 'logs_txt_382',\n",
       " 'logs_txt_807',\n",
       " 'logs_txt_132',\n",
       " 'logs_txt_360',\n",
       " 'logs_txt_431',\n",
       " 'logs_txt_659',\n",
       " 'logs_txt_117',\n",
       " 'logs_txt_623',\n",
       " 'logs_txt_869',\n",
       " 'logs_txt_665',\n",
       " 'logs_txt_249',\n",
       " 'logs_txt_230',\n",
       " 'logs_txt_627',\n",
       " 'logs_txt_940',\n",
       " 'logs_txt_34',\n",
       " 'logs_txt_746',\n",
       " 'logs_txt_536',\n",
       " 'logs_txt_42',\n",
       " 'logs_txt_413',\n",
       " 'logs_txt_341',\n",
       " 'logs_txt_70',\n",
       " 'logs_txt_930',\n",
       " 'logs_txt_749',\n",
       " 'logs_txt_552',\n",
       " 'logs_txt_951',\n",
       " 'logs_txt_318',\n",
       " 'logs_txt_173',\n",
       " 'logs_txt_537',\n",
       " 'logs_txt_481',\n",
       " 'logs_txt_391',\n",
       " 'logs_txt_157',\n",
       " 'logs_txt_439',\n",
       " 'logs_txt_404',\n",
       " 'logs_txt_847',\n",
       " 'logs_txt_786',\n",
       " 'logs_txt_851',\n",
       " 'logs_txt_592',\n",
       " 'logs_txt_630',\n",
       " 'logs_txt_759',\n",
       " 'logs_txt_973',\n",
       " 'logs_txt_978',\n",
       " 'logs_txt_248',\n",
       " 'logs_txt_25',\n",
       " 'logs_txt_171',\n",
       " 'logs_txt_581',\n",
       " 'logs_txt_967',\n",
       " 'logs_txt_619',\n",
       " 'logs_txt_368',\n",
       " 'logs_txt_963',\n",
       " 'logs_txt_806',\n",
       " 'logs_txt_220']"
      ]
     },
     "execution_count": 3,
     "metadata": {},
     "output_type": "execute_result"
    }
   ],
   "source": [
    "import os\n",
    "os.listdir()"
   ]
  }
 ],
 "metadata": {
  "kernelspec": {
   "display_name": "Python (pytorch0.41)",
   "language": "python",
   "name": "pytorch0.41"
  },
  "language_info": {
   "codemirror_mode": {
    "name": "ipython",
    "version": 3
   },
   "file_extension": ".py",
   "mimetype": "text/x-python",
   "name": "python",
   "nbconvert_exporter": "python",
   "pygments_lexer": "ipython3",
   "version": "3.6.6"
  }
 },
 "nbformat": 4,
 "nbformat_minor": 2
}
